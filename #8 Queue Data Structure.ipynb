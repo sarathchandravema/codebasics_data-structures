{
 "cells": [
  {
   "cell_type": "markdown",
   "id": "4cedd668",
   "metadata": {},
   "source": [
    "https://github.com/codebasics/data-structures-algorithms-python/blob/master/data_structures/6_Queue/6_queue_exercise.md"
   ]
  },
  {
   "cell_type": "code",
   "execution_count": 1,
   "id": "8c71cdc3",
   "metadata": {},
   "outputs": [],
   "source": [
    "import time"
   ]
  },
  {
   "cell_type": "code",
   "execution_count": 2,
   "id": "5043d5f3",
   "metadata": {},
   "outputs": [],
   "source": [
    "from collections import deque\n",
    "\n",
    "class Queue:\n",
    "    \n",
    "    def __init__(self):\n",
    "        self.buffer = deque()\n",
    "    \n",
    "    def enqueue(self, val):\n",
    "        self.buffer.appendleft(val)\n",
    "        \n",
    "    def dequeue(self):\n",
    "        return self.buffer.pop()\n",
    "    \n",
    "    def is_empty(self):\n",
    "        return len(self.buffer)==0\n",
    "    \n",
    "    def size(self):\n",
    "        return len(self.buffer)"
   ]
  },
  {
   "cell_type": "code",
   "execution_count": 3,
   "id": "bd83e8ec",
   "metadata": {},
   "outputs": [],
   "source": [
    "import threading"
   ]
  },
  {
   "cell_type": "code",
   "execution_count": 4,
   "id": "44a742cf",
   "metadata": {},
   "outputs": [],
   "source": [
    "def place_order(queue, arr):\n",
    "    print(\"ordering\")\n",
    "    for element in arr:\n",
    "        print(\"ordered  \", element)\n",
    "        queue.enqueue(element)\n",
    "        time.sleep(0.5)"
   ]
  },
  {
   "cell_type": "code",
   "execution_count": 5,
   "id": "822edd4d",
   "metadata": {},
   "outputs": [],
   "source": [
    "def serve_order(queue):\n",
    "    print(\"serving\")\n",
    "    while queue.size() != 0 :\n",
    "        x = queue.dequeue()\n",
    "        print(\"served  \", x)\n",
    "        time.sleep(2)"
   ]
  },
  {
   "cell_type": "code",
   "execution_count": 6,
   "id": "069b23c0",
   "metadata": {},
   "outputs": [],
   "source": [
    "orders = ['pizza','samosa','pasta','biryani','burger']\n",
    "pq = Queue()"
   ]
  },
  {
   "cell_type": "code",
   "execution_count": 7,
   "id": "3ff64c9f",
   "metadata": {},
   "outputs": [
    {
     "name": "stdout",
     "output_type": "stream",
     "text": [
      "ordering\n",
      "ordered   pizza\n",
      "ordered   samosa\n",
      "serving\n",
      "served   pizza\n",
      "ordered   pasta\n",
      "ordered   biryani\n",
      "ordered   burger\n",
      "served   samosa\n",
      "served   pasta\n",
      "served   biryani\n",
      "served   burger\n",
      "done in   11.052919626235962\n",
      "totally done\n"
     ]
    }
   ],
   "source": [
    "t1 = threading.Thread(target=place_order, args=(pq,orders,))\n",
    "t2 = threading.Thread(target=serve_order, args=(pq,))\n",
    "\n",
    "t = time.time()\n",
    "\n",
    "t1.start()\n",
    "time.sleep(1)\n",
    "t2.start()\n",
    "\n",
    "t1.join()\n",
    "t2.join()\n",
    "\n",
    "print(\"done in  \", time.time()-t)\n",
    "print(\"totally done\")"
   ]
  },
  {
   "cell_type": "markdown",
   "id": "d0db0125",
   "metadata": {},
   "source": [
    "------------------------------------------"
   ]
  },
  {
   "cell_type": "code",
   "execution_count": 13,
   "id": "cd04c779",
   "metadata": {},
   "outputs": [],
   "source": [
    "class BinQueue:\n",
    "    \n",
    "    def __init__(self):\n",
    "        self.buffer = deque()\n",
    "    \n",
    "    def enqueue(self, val):\n",
    "        self.buffer.appendleft(val)\n",
    "        \n",
    "    def dequeue(self):\n",
    "        return self.buffer.pop()\n",
    "    \n",
    "    def is_empty(self):\n",
    "        return len(self.buffer)==0\n",
    "    \n",
    "    def size(self):\n",
    "        return len(self.buffer)\n",
    "    \n",
    "    def front(self):\n",
    "        return self.buffer[-1]"
   ]
  },
  {
   "cell_type": "code",
   "execution_count": 42,
   "id": "4f0d3294",
   "metadata": {},
   "outputs": [],
   "source": [
    "biq = BinQueue()"
   ]
  },
  {
   "cell_type": "code",
   "execution_count": 30,
   "id": "35b1628b",
   "metadata": {},
   "outputs": [],
   "source": [
    "biq.enqueue('1')"
   ]
  },
  {
   "cell_type": "code",
   "execution_count": 33,
   "id": "b7821921",
   "metadata": {},
   "outputs": [
    {
     "data": {
      "text/plain": [
       "'1'"
      ]
     },
     "execution_count": 33,
     "metadata": {},
     "output_type": "execute_result"
    }
   ],
   "source": [
    "for i in sdf:\n",
    "    for j in ['0', '1']:\n",
    "        if len(sdf) < 11: biq.enqueue(i + j)"
   ]
  },
  {
   "cell_type": "code",
   "execution_count": 43,
   "id": "58859318",
   "metadata": {},
   "outputs": [],
   "source": [
    "def produce_binary(n, queue):\n",
    "    if ~(queue.is_empty()):\n",
    "        print(\"Queue is not empty\")\n",
    "    \n",
    "    queue.enqueue('1')\n",
    "    \n",
    "    for i in range(n):\n",
    "        front = queue.front()\n",
    "        print(\"    \",  front)\n",
    "        queue.enqueue(front + \"0\")\n",
    "        queue.enqueue(front + \"1\")\n",
    "        \n",
    "        queue.dequeue()"
   ]
  },
  {
   "cell_type": "code",
   "execution_count": 44,
   "id": "1c7e94af",
   "metadata": {},
   "outputs": [
    {
     "name": "stdout",
     "output_type": "stream",
     "text": [
      "Queue is not empty\n",
      "     1\n",
      "     10\n",
      "     11\n",
      "     100\n",
      "     101\n",
      "     110\n",
      "     111\n",
      "     1000\n",
      "     1001\n",
      "     1010\n"
     ]
    }
   ],
   "source": [
    "produce_binary(10, biq)"
   ]
  },
  {
   "cell_type": "code",
   "execution_count": 54,
   "id": "40ffe4d0",
   "metadata": {},
   "outputs": [],
   "source": [
    "def produce_binary_(n, queue):\n",
    "#     if ~(queue.is_empty()):\n",
    "#         print(\"Queue is not empty\")\n",
    "    \n",
    "    queue.appendleft('1')\n",
    "    print(queue)\n",
    "    \n",
    "    for i in range(n):\n",
    "        front = queue[-1]\n",
    "        print(\"    \",  front)\n",
    "        queue.appendleft(front + \"0\")\n",
    "        print(queue)\n",
    "        queue.appendleft(front + \"1\")\n",
    "        print(queue)\n",
    "        \n",
    "        queue.pop()"
   ]
  },
  {
   "cell_type": "code",
   "execution_count": 55,
   "id": "a000fd12",
   "metadata": {},
   "outputs": [],
   "source": [
    "biq_ = deque()"
   ]
  },
  {
   "cell_type": "code",
   "execution_count": 56,
   "id": "8de1875a",
   "metadata": {},
   "outputs": [
    {
     "name": "stdout",
     "output_type": "stream",
     "text": [
      "deque(['1'])\n",
      "     1\n",
      "deque(['10', '1'])\n",
      "deque(['11', '10', '1'])\n",
      "     10\n",
      "deque(['100', '11', '10'])\n",
      "deque(['101', '100', '11', '10'])\n",
      "     11\n",
      "deque(['110', '101', '100', '11'])\n",
      "deque(['111', '110', '101', '100', '11'])\n",
      "     100\n",
      "deque(['1000', '111', '110', '101', '100'])\n",
      "deque(['1001', '1000', '111', '110', '101', '100'])\n",
      "     101\n",
      "deque(['1010', '1001', '1000', '111', '110', '101'])\n",
      "deque(['1011', '1010', '1001', '1000', '111', '110', '101'])\n",
      "     110\n",
      "deque(['1100', '1011', '1010', '1001', '1000', '111', '110'])\n",
      "deque(['1101', '1100', '1011', '1010', '1001', '1000', '111', '110'])\n",
      "     111\n",
      "deque(['1110', '1101', '1100', '1011', '1010', '1001', '1000', '111'])\n",
      "deque(['1111', '1110', '1101', '1100', '1011', '1010', '1001', '1000', '111'])\n",
      "     1000\n",
      "deque(['10000', '1111', '1110', '1101', '1100', '1011', '1010', '1001', '1000'])\n",
      "deque(['10001', '10000', '1111', '1110', '1101', '1100', '1011', '1010', '1001', '1000'])\n",
      "     1001\n",
      "deque(['10010', '10001', '10000', '1111', '1110', '1101', '1100', '1011', '1010', '1001'])\n",
      "deque(['10011', '10010', '10001', '10000', '1111', '1110', '1101', '1100', '1011', '1010', '1001'])\n",
      "     1010\n",
      "deque(['10100', '10011', '10010', '10001', '10000', '1111', '1110', '1101', '1100', '1011', '1010'])\n",
      "deque(['10101', '10100', '10011', '10010', '10001', '10000', '1111', '1110', '1101', '1100', '1011', '1010'])\n"
     ]
    }
   ],
   "source": [
    "produce_binary_(10, biq_)"
   ]
  },
  {
   "cell_type": "code",
   "execution_count": 26,
   "id": "b54ed2a7",
   "metadata": {},
   "outputs": [],
   "source": [
    "sdf = ['1']"
   ]
  },
  {
   "cell_type": "code",
   "execution_count": 27,
   "id": "ac7a781c",
   "metadata": {},
   "outputs": [],
   "source": [
    "for i in sdf:\n",
    "    for j in ['0', '1']:\n",
    "        if len(sdf) < 11: sdf.append(i + j)"
   ]
  },
  {
   "cell_type": "code",
   "execution_count": 28,
   "id": "2aa87b64",
   "metadata": {},
   "outputs": [
    {
     "data": {
      "text/plain": [
       "['1', '10', '11', '100', '101', '110', '111', '1000', '1001', '1010', '1011']"
      ]
     },
     "execution_count": 28,
     "metadata": {},
     "output_type": "execute_result"
    }
   ],
   "source": [
    "sdf"
   ]
  }
 ],
 "metadata": {
  "kernelspec": {
   "display_name": "Python 3",
   "language": "python",
   "name": "python3"
  },
  "language_info": {
   "codemirror_mode": {
    "name": "ipython",
    "version": 3
   },
   "file_extension": ".py",
   "mimetype": "text/x-python",
   "name": "python",
   "nbconvert_exporter": "python",
   "pygments_lexer": "ipython3",
   "version": "3.7.0"
  }
 },
 "nbformat": 4,
 "nbformat_minor": 5
}

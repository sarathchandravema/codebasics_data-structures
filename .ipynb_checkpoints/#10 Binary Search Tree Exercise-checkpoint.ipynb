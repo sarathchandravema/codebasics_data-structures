{
 "cells": [
  {
   "cell_type": "markdown",
   "id": "01726822",
   "metadata": {},
   "source": [
    "https://github.com/codebasics/data-structures-algorithms-python/blob/master/data_structures/8_Binary_Tree_1/8_binary_tree_part_1_exercise.md"
   ]
  },
  {
   "cell_type": "code",
   "execution_count": 1,
   "id": "dfa5bef5",
   "metadata": {},
   "outputs": [],
   "source": [
    "class BinarySearchTreeNode:\n",
    "    def __init__(self, data):\n",
    "        self.data = data\n",
    "        self.left = None\n",
    "        self.right = None\n",
    "\n",
    "    def add_child(self, data):\n",
    "        if data == self.data:\n",
    "            return # node already exist\n",
    "\n",
    "        if data < self.data:\n",
    "            if self.left:\n",
    "                self.left.add_child(data)\n",
    "            else:\n",
    "                self.left = BinarySearchTreeNode(data)\n",
    "        else:\n",
    "            if self.right:\n",
    "                self.right.add_child(data)\n",
    "            else:\n",
    "                self.right = BinarySearchTreeNode(data)\n",
    "\n",
    "\n",
    "    def search(self, val):\n",
    "        if self.data == val:\n",
    "            return True\n",
    "\n",
    "        if val < self.data:\n",
    "            if self.left:\n",
    "                return self.left.search(val)\n",
    "            else:\n",
    "                return False\n",
    "\n",
    "        if val > self.data:\n",
    "            if self.right:\n",
    "                return self.right.search(val)\n",
    "            else:\n",
    "                return False\n",
    "\n",
    "    def in_order_traversal(self):\n",
    "        elements = []\n",
    "        if self.left:\n",
    "            elements += self.left.in_order_traversal()\n",
    "\n",
    "        elements.append(self.data)\n",
    "\n",
    "        if self.right:\n",
    "            elements += self.right.in_order_traversal()\n",
    "\n",
    "        return elements\n",
    "    \n",
    "    def find_min(self):\n",
    "        if self.left:\n",
    "            return self.left.find_min()\n",
    "        else:\n",
    "            return self.data\n",
    "    \n",
    "    def find_max(self):\n",
    "        if self.right:\n",
    "            return self.right.find_max()\n",
    "        else:\n",
    "            return self.data\n",
    "    \n",
    "    def calculate_sum(self):\n",
    "        return sum(self.in_order_traversal())\n",
    "    \n",
    "    def pre_order_traversal(self):\n",
    "        elements = []\n",
    "        \n",
    "        elements.append(self.data)\n",
    "        \n",
    "        if self.left:\n",
    "            elements += self.left.pre_order_traversal()\n",
    "        \n",
    "        if self.right:\n",
    "            elements += self.right.pre_order_traversal()\n",
    "            \n",
    "        return elements\n",
    "\n",
    "    def post_order_traversal(self):\n",
    "        elements = []\n",
    "                \n",
    "        if self.left:\n",
    "            elements += self.left.post_order_traversal()\n",
    "        \n",
    "        if self.right:\n",
    "            elements += self.right.post_order_traversal()\n",
    "            \n",
    "        elements.append(self.data)\n",
    "        \n",
    "        return elements"
   ]
  },
  {
   "cell_type": "code",
   "execution_count": 2,
   "id": "804c703f",
   "metadata": {},
   "outputs": [],
   "source": [
    "def build_tree(elem):\n",
    "    root = BinarySearchTreeNode(elem[0])\n",
    "    \n",
    "    for i in range(1, len(elem)):\n",
    "        root.add_child(elem[i])\n",
    "    \n",
    "    return root"
   ]
  },
  {
   "cell_type": "code",
   "execution_count": 3,
   "id": "08b7cd4a",
   "metadata": {},
   "outputs": [],
   "source": [
    "numbers = [15,12,7,14,27,20,23,88]\n",
    "num_tree = build_tree(numbers)"
   ]
  },
  {
   "cell_type": "code",
   "execution_count": 4,
   "id": "54bb1cf1",
   "metadata": {},
   "outputs": [
    {
     "data": {
      "text/plain": [
       "7"
      ]
     },
     "execution_count": 4,
     "metadata": {},
     "output_type": "execute_result"
    }
   ],
   "source": [
    "num_tree.find_min()"
   ]
  },
  {
   "cell_type": "code",
   "execution_count": 5,
   "id": "f09b39f1",
   "metadata": {},
   "outputs": [
    {
     "data": {
      "text/plain": [
       "88"
      ]
     },
     "execution_count": 5,
     "metadata": {},
     "output_type": "execute_result"
    }
   ],
   "source": [
    "num_tree.find_max()"
   ]
  },
  {
   "cell_type": "code",
   "execution_count": 6,
   "id": "fa64fa0d",
   "metadata": {},
   "outputs": [
    {
     "data": {
      "text/plain": [
       "206"
      ]
     },
     "execution_count": 6,
     "metadata": {},
     "output_type": "execute_result"
    }
   ],
   "source": [
    "num_tree.calculate_sum()"
   ]
  },
  {
   "cell_type": "code",
   "execution_count": 7,
   "id": "b291a62b",
   "metadata": {},
   "outputs": [
    {
     "data": {
      "text/plain": [
       "[15, 12, 7, 14, 27, 20, 23, 88]"
      ]
     },
     "execution_count": 7,
     "metadata": {},
     "output_type": "execute_result"
    }
   ],
   "source": [
    "num_tree.pre_order_traversal()"
   ]
  },
  {
   "cell_type": "code",
   "execution_count": 8,
   "id": "a552c2b0",
   "metadata": {},
   "outputs": [
    {
     "data": {
      "text/plain": [
       "[7, 14, 12, 23, 20, 88, 27, 15]"
      ]
     },
     "execution_count": 8,
     "metadata": {},
     "output_type": "execute_result"
    }
   ],
   "source": [
    "num_tree.post_order_traversal()"
   ]
  }
 ],
 "metadata": {
  "kernelspec": {
   "display_name": "Python 3",
   "language": "python",
   "name": "python3"
  },
  "language_info": {
   "codemirror_mode": {
    "name": "ipython",
    "version": 3
   },
   "file_extension": ".py",
   "mimetype": "text/x-python",
   "name": "python",
   "nbconvert_exporter": "python",
   "pygments_lexer": "ipython3",
   "version": "3.7.0"
  }
 },
 "nbformat": 4,
 "nbformat_minor": 5
}

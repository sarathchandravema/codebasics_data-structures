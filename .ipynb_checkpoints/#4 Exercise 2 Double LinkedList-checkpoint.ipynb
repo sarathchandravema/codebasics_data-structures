{
 "cells": [
  {
   "cell_type": "code",
   "execution_count": 1,
   "id": "6978f30e",
   "metadata": {},
   "outputs": [],
   "source": [
    "class Node:\n",
    "    def __init__(self, data=None, next=None, prev=None):\n",
    "        self.data = data\n",
    "        self.next = next\n",
    "        self.prev = prev"
   ]
  },
  {
   "cell_type": "code",
   "execution_count": 28,
   "id": "464eaa01",
   "metadata": {},
   "outputs": [],
   "source": [
    "class DoubleLinkedList:\n",
    "    def __init__(self):\n",
    "        self.head = None\n",
    "        \n",
    "    def print_forward(self):\n",
    "        if self.head is None:\n",
    "            print(\"Double linked list is empty\")\n",
    "            return\n",
    "        \n",
    "        itr = self.head\n",
    "        str_ = ''\n",
    "        \n",
    "        while itr:\n",
    "            if itr.prev: \n",
    "                prev = itr.prev\n",
    "            else:\n",
    "                prev = ''\n",
    "            str_ +=  str(prev) + '-->' + str(itr.data) + '-->'\n",
    "            itr = itr.next\n",
    "        print(str_)\n",
    "    \n",
    "    def print(self):\n",
    "        itr = self.head\n",
    "        while itr:\n",
    "            print(\"[ \" + str(itr.prev) + '--> ' + str(itr.data) + ' --> ' + str(itr.next) + \" ]\")\n",
    "            itr = itr.next\n",
    "    \n",
    "    def print_backward(self):\n",
    "        if self.head is None:\n",
    "            print(\"Double linked list is empty\")\n",
    "            return\n",
    "        \n",
    "    def insert_at_begining(self, data):\n",
    "        if self.head == None:\n",
    "            node = Node(data, self.head, None)\n",
    "            return\n",
    "        else:\n",
    "            node = Node(data, self.head, None)\n",
    "            self.head.prev = node\n",
    "            self.head = node\n",
    "            "
   ]
  },
  {
   "cell_type": "code",
   "execution_count": 29,
   "id": "39bad593",
   "metadata": {},
   "outputs": [],
   "source": [
    "dl = DoubleLinkedList()\n",
    "dl.insert_at_begining(5)\n",
    "dl.print()\n",
    "dl.insert_at_begining(43)\n",
    "dl.print()\n",
    "dl.insert_at_begining(35)\n",
    "dl.insert_at_begining(64)\n",
    "dl.print()"
   ]
  },
  {
   "cell_type": "code",
   "execution_count": 27,
   "id": "26ec1ef7",
   "metadata": {},
   "outputs": [
    {
     "name": "stdout",
     "output_type": "stream",
     "text": [
      "Double linked list is empty\n"
     ]
    }
   ],
   "source": [
    "dl = DoubleLinkedList()\n",
    "dl.print_forward()"
   ]
  },
  {
   "cell_type": "code",
   "execution_count": null,
   "id": "7a400340",
   "metadata": {},
   "outputs": [],
   "source": [
    "dl = "
   ]
  }
 ],
 "metadata": {
  "kernelspec": {
   "display_name": "Python 3",
   "language": "python",
   "name": "python3"
  },
  "language_info": {
   "codemirror_mode": {
    "name": "ipython",
    "version": 3
   },
   "file_extension": ".py",
   "mimetype": "text/x-python",
   "name": "python",
   "nbconvert_exporter": "python",
   "pygments_lexer": "ipython3",
   "version": "3.7.0"
  }
 },
 "nbformat": 4,
 "nbformat_minor": 5
}

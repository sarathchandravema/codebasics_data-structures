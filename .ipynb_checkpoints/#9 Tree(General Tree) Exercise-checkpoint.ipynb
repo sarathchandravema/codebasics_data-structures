{
 "cells": [
  {
   "cell_type": "markdown",
   "id": "76e58872",
   "metadata": {},
   "source": [
    "github.com/codebasics/data-structures-algorithms-python/blob/master/data_structures/7_Tree/7_tree_exercise.md"
   ]
  },
  {
   "cell_type": "code",
   "execution_count": 1,
   "id": "d41bcd00",
   "metadata": {},
   "outputs": [],
   "source": [
    "class TreeNode:\n",
    "    def __init__(self, data):\n",
    "        self.data = data\n",
    "        self.children = []\n",
    "        self.parent = None\n",
    "    \n",
    "    def add_child(self, child):\n",
    "        child.parent = self\n",
    "        self.children.append(child)\n",
    "    \n",
    "    def get_level(self):\n",
    "        level = 0\n",
    "        p = self.parent\n",
    "        while p:\n",
    "            level += 1\n",
    "            p = p.parent\n",
    "        return level\n",
    "    \n",
    "    def print_tree(self):\n",
    "        spaces = ' ' * self.get_level() * 3\n",
    "        prefix = spaces + '|--' if self.parent else '*~*'\n",
    "        print( prefix + self.data)\n",
    "        if self.children:\n",
    "            for child in self.children:\n",
    "                child.print_tree()"
   ]
  },
  {
   "cell_type": "markdown",
   "id": "a745090a",
   "metadata": {},
   "source": [
    "### Problem 1"
   ]
  },
  {
   "cell_type": "code",
   "execution_count": 2,
   "id": "20a9f692",
   "metadata": {},
   "outputs": [],
   "source": [
    "class CompanyTree:\n",
    "    def __init__(self, name, desgn):\n",
    "        self.name = name\n",
    "        self.desgn = desgn\n",
    "        self.children = []\n",
    "        self.parent = None\n",
    "    \n",
    "    def add_child(self, child):\n",
    "        child.parent = self\n",
    "        self.children.append(child)\n",
    "    \n",
    "    def get_level(self):\n",
    "        level = 0\n",
    "        p = self.parent\n",
    "        while p:\n",
    "            level += 1\n",
    "            p = p.parent\n",
    "        return level\n",
    "    \n",
    "    def print_tree(self, what):\n",
    "        if what == 'name':\n",
    "            data = self.name\n",
    "        elif what == 'designation':\n",
    "            data = self.desgn\n",
    "        elif what == 'both':\n",
    "            data = self.name + '(' + self.desgn + ')'\n",
    "        else :\n",
    "            raise Exception(\"Not intended\")\n",
    "        \n",
    "        spaces = ' ' * self.get_level() * 3\n",
    "        prefix = spaces + '|--' if self.parent else '*~*'\n",
    "        print( prefix + data)\n",
    "        if self.children:\n",
    "            for child in self.children:\n",
    "                child.print_tree(what)"
   ]
  },
  {
   "cell_type": "code",
   "execution_count": 3,
   "id": "2eff911d",
   "metadata": {},
   "outputs": [],
   "source": [
    "def build_company():\n",
    "    root = CompanyTree('Nilupul', 'CEO')\n",
    "    \n",
    "    ih = CompanyTree('Vishwa', 'Infra Head')\n",
    "    ih.add_child(CompanyTree('Dhaval', 'Cloud Mang'))\n",
    "    ih.add_child(CompanyTree('Abhijit', 'App Mang'))\n",
    "    \n",
    "    ah = CompanyTree('Aamir', 'App Head')\n",
    "    \n",
    "    hr = CompanyTree('Gels', 'HR Head')\n",
    "    hr.add_child(CompanyTree('Peter', 'RecrMang'))\n",
    "    hr.add_child(CompanyTree('Waqar', 'Policy Mang'))\n",
    "    \n",
    "    cto = CompanyTree('Chinmay', 'CTO')\n",
    "    \n",
    "    cto.add_child(ih)\n",
    "    cto.add_child(ah)\n",
    "    \n",
    "    root.add_child(cto)\n",
    "    root.add_child(hr)\n",
    "    \n",
    "    return root"
   ]
  },
  {
   "cell_type": "code",
   "execution_count": 4,
   "id": "f036043d",
   "metadata": {},
   "outputs": [],
   "source": [
    "rt = build_company()"
   ]
  },
  {
   "cell_type": "code",
   "execution_count": 5,
   "id": "eb32caf5",
   "metadata": {},
   "outputs": [
    {
     "name": "stdout",
     "output_type": "stream",
     "text": [
      "*~*Nilupul\n",
      "   |--Chinmay\n",
      "      |--Vishwa\n",
      "         |--Dhaval\n",
      "         |--Abhijit\n",
      "      |--Aamir\n",
      "   |--Gels\n",
      "      |--Peter\n",
      "      |--Waqar\n"
     ]
    }
   ],
   "source": [
    "rt.print_tree('name')"
   ]
  },
  {
   "cell_type": "code",
   "execution_count": 6,
   "id": "394e6924",
   "metadata": {},
   "outputs": [
    {
     "name": "stdout",
     "output_type": "stream",
     "text": [
      "*~*CEO\n",
      "   |--CTO\n",
      "      |--Infra Head\n",
      "         |--Cloud Mang\n",
      "         |--App Mang\n",
      "      |--App Head\n",
      "   |--HR Head\n",
      "      |--RecrMang\n",
      "      |--Policy Mang\n"
     ]
    }
   ],
   "source": [
    "rt.print_tree('designation')"
   ]
  },
  {
   "cell_type": "code",
   "execution_count": 7,
   "id": "dd968d72",
   "metadata": {},
   "outputs": [
    {
     "name": "stdout",
     "output_type": "stream",
     "text": [
      "*~*Nilupul(CEO)\n",
      "   |--Chinmay(CTO)\n",
      "      |--Vishwa(Infra Head)\n",
      "         |--Dhaval(Cloud Mang)\n",
      "         |--Abhijit(App Mang)\n",
      "      |--Aamir(App Head)\n",
      "   |--Gels(HR Head)\n",
      "      |--Peter(RecrMang)\n",
      "      |--Waqar(Policy Mang)\n"
     ]
    }
   ],
   "source": [
    "rt.print_tree('both')"
   ]
  },
  {
   "cell_type": "code",
   "execution_count": 8,
   "id": "e2567c47",
   "metadata": {},
   "outputs": [
    {
     "ename": "Exception",
     "evalue": "Not intended",
     "output_type": "error",
     "traceback": [
      "\u001b[1;31m---------------------------------------------------------------------------\u001b[0m",
      "\u001b[1;31mException\u001b[0m                                 Traceback (most recent call last)",
      "\u001b[1;32m<ipython-input-8-0322cf164486>\u001b[0m in \u001b[0;36m<module>\u001b[1;34m\u001b[0m\n\u001b[1;32m----> 1\u001b[1;33m \u001b[0mrt\u001b[0m\u001b[1;33m.\u001b[0m\u001b[0mprint_tree\u001b[0m\u001b[1;33m(\u001b[0m\u001b[1;34m'ada'\u001b[0m\u001b[1;33m)\u001b[0m\u001b[1;33m\u001b[0m\u001b[0m\n\u001b[0m",
      "\u001b[1;32m<ipython-input-2-e508c460fdfe>\u001b[0m in \u001b[0;36mprint_tree\u001b[1;34m(self, what)\u001b[0m\n\u001b[0;32m     26\u001b[0m             \u001b[0mdata\u001b[0m \u001b[1;33m=\u001b[0m \u001b[0mself\u001b[0m\u001b[1;33m.\u001b[0m\u001b[0mname\u001b[0m \u001b[1;33m+\u001b[0m \u001b[1;34m'('\u001b[0m \u001b[1;33m+\u001b[0m \u001b[0mself\u001b[0m\u001b[1;33m.\u001b[0m\u001b[0mdesgn\u001b[0m \u001b[1;33m+\u001b[0m \u001b[1;34m')'\u001b[0m\u001b[1;33m\u001b[0m\u001b[0m\n\u001b[0;32m     27\u001b[0m         \u001b[1;32melse\u001b[0m \u001b[1;33m:\u001b[0m\u001b[1;33m\u001b[0m\u001b[0m\n\u001b[1;32m---> 28\u001b[1;33m             \u001b[1;32mraise\u001b[0m \u001b[0mException\u001b[0m\u001b[1;33m(\u001b[0m\u001b[1;34m\"Not intended\"\u001b[0m\u001b[1;33m)\u001b[0m\u001b[1;33m\u001b[0m\u001b[0m\n\u001b[0m\u001b[0;32m     29\u001b[0m \u001b[1;33m\u001b[0m\u001b[0m\n\u001b[0;32m     30\u001b[0m         \u001b[0mspaces\u001b[0m \u001b[1;33m=\u001b[0m \u001b[1;34m' '\u001b[0m \u001b[1;33m*\u001b[0m \u001b[0mself\u001b[0m\u001b[1;33m.\u001b[0m\u001b[0mget_level\u001b[0m\u001b[1;33m(\u001b[0m\u001b[1;33m)\u001b[0m \u001b[1;33m*\u001b[0m \u001b[1;36m3\u001b[0m\u001b[1;33m\u001b[0m\u001b[0m\n",
      "\u001b[1;31mException\u001b[0m: Not intended"
     ]
    }
   ],
   "source": [
    "rt.print_tree('ada')"
   ]
  },
  {
   "cell_type": "markdown",
   "id": "374e281c",
   "metadata": {},
   "source": [
    "-----------------------------------------------"
   ]
  },
  {
   "cell_type": "markdown",
   "id": "4bad051a",
   "metadata": {},
   "source": [
    "### Problem 1 - different way"
   ]
  },
  {
   "cell_type": "code",
   "execution_count": 9,
   "id": "eadf211b",
   "metadata": {},
   "outputs": [],
   "source": [
    "## this code is redundant, need to think how to use a new employee class in another class\n",
    "class Employee():\n",
    "    def __init__(self, name, desgn):\n",
    "        self.name = name\n",
    "        self.desgn = desgn\n",
    "    \n",
    "    def printEmployee(self):\n",
    "        print(self.name + '(' + self.desgn + ')')\n",
    "    \n",
    "    def printName(self):\n",
    "        print(self.name)\n",
    "    \n",
    "    def printDesgn(self):\n",
    "        print(self.desgn)\n",
    "    \n",
    "    def print_tree(self, what):\n",
    "        if what == 'name':\n",
    "            data = self.name\n",
    "        elif what == 'designation':\n",
    "            data = self.desgn\n",
    "        elif what == 'both':\n",
    "            data = self.name + '(' + self.desgn + ')'\n",
    "        else :\n",
    "            raise Exception(\"Not intended\")\n",
    "        \n",
    "        print(data)"
   ]
  },
  {
   "cell_type": "code",
   "execution_count": 10,
   "id": "5252c49f",
   "metadata": {},
   "outputs": [],
   "source": [
    "class CompanyTree_:\n",
    "    def __init__(self, empl):\n",
    "        self.empl = empl\n",
    "        self.children = []\n",
    "        self.parent = None\n",
    "    \n",
    "    def add_child(self, child):\n",
    "        child.parent = self\n",
    "        self.children.append(child)\n",
    "    \n",
    "    def get_level(self):\n",
    "        level = 0\n",
    "        p = self.parent\n",
    "        while p:\n",
    "            level += 1\n",
    "            p = p.parent\n",
    "        return level\n",
    "    \n",
    "    def print_tree(self, what):\n",
    "        if what == 'name':\n",
    "            data = self.empl.name\n",
    "        elif what == 'designation':\n",
    "            data = self.empl.desgn\n",
    "        elif what == 'both':\n",
    "            data = self.empl.name + '(' + self.empl.desgn + ')'\n",
    "        else :\n",
    "            raise Exception(\"Not intended\")\n",
    "        \n",
    "        spaces = ' ' * self.get_level() * 3\n",
    "        prefix = spaces + '|--' if self.parent else '*~*'\n",
    "        print( prefix + data)\n",
    "        if self.children:\n",
    "            for child in self.children:\n",
    "                if isinstance(child, type(Employee('',''))):\n",
    "                    print( prefix + child.print_tree(what))\n",
    "                else:\n",
    "                    child.print_tree(what)"
   ]
  },
  {
   "cell_type": "code",
   "execution_count": 11,
   "id": "376ef0f8",
   "metadata": {},
   "outputs": [],
   "source": [
    "def build_company_():\n",
    "    root = CompanyTree_(Employee('Nilupul', 'CEO'))\n",
    "    \n",
    "    ih = CompanyTree_(Employee('Vishwa', 'Infra Head'))\n",
    "    ih.add_child(Employee('Dhaval', 'Cloud Mang'))\n",
    "    ih.add_child(Employee('Abhijit', 'App Mang'))\n",
    "    \n",
    "    ah = Employee('Aamir', 'App Head')\n",
    "    \n",
    "    hr = CompanyTree_(Employee('Gels', 'HR Head'))\n",
    "    hr.add_child(Employee('Peter', 'RecrMang'))\n",
    "    hr.add_child(Employee('Waqar', 'Policy Mang'))\n",
    "    \n",
    "    cto = CompanyTree_(Employee('Chinmay', 'CTO'))\n",
    "    \n",
    "    cto.add_child(ih)\n",
    "    cto.add_child(ah)\n",
    "    \n",
    "    root.add_child(cto)\n",
    "    root.add_child(hr)\n",
    "    \n",
    "    return root"
   ]
  },
  {
   "cell_type": "code",
   "execution_count": 12,
   "id": "df1460d2",
   "metadata": {},
   "outputs": [],
   "source": [
    "rt = build_company_()"
   ]
  },
  {
   "cell_type": "code",
   "execution_count": 13,
   "id": "144d4d43",
   "metadata": {},
   "outputs": [],
   "source": [
    "# rt.print_tree('both')\n",
    "# this method is not working, changes to fix is to be done"
   ]
  },
  {
   "cell_type": "code",
   "execution_count": 14,
   "id": "ddd69f0a",
   "metadata": {},
   "outputs": [],
   "source": [
    "sd = Employee('Nilupul', 'CEO')"
   ]
  },
  {
   "cell_type": "code",
   "execution_count": 15,
   "id": "3f278ebc",
   "metadata": {},
   "outputs": [
    {
     "data": {
      "text/plain": [
       "True"
      ]
     },
     "execution_count": 15,
     "metadata": {},
     "output_type": "execute_result"
    }
   ],
   "source": [
    "isinstance(sd, type(Employee('Nilupul', 'CEO')))"
   ]
  },
  {
   "cell_type": "markdown",
   "id": "9df1937b",
   "metadata": {},
   "source": [
    "-------------------------------------------------"
   ]
  },
  {
   "cell_type": "markdown",
   "id": "11aafbe8",
   "metadata": {},
   "source": [
    "### Problem 2"
   ]
  },
  {
   "cell_type": "code",
   "execution_count": 37,
   "id": "4bdb2f3d",
   "metadata": {},
   "outputs": [],
   "source": [
    "class LocationNode:\n",
    "    def __init__(self, data):\n",
    "        self.data = data\n",
    "        self.children = []\n",
    "        self.parent = None\n",
    "    \n",
    "    def add_child(self, child):\n",
    "        child.parent = self\n",
    "        self.children.append(child)\n",
    "    \n",
    "    def get_level(self):\n",
    "        level = 0\n",
    "        p = self.parent\n",
    "        while p:\n",
    "            level += 1\n",
    "            p = p.parent\n",
    "        return level\n",
    "    \n",
    "        \n",
    "#     def print_tree(self):\n",
    "#         spaces = ' ' * self.get_level() * 3\n",
    "#         prefix = spaces + '|--' if self.parent else '*~*'\n",
    "#         print( prefix + self.data)\n",
    "#         if self.children:\n",
    "#             for child in self.children:\n",
    "#                 child.print_tree()\n",
    "\n",
    "    def print_tree(self, what):\n",
    "        spaces = ' ' * self.get_level() * 3\n",
    "        prefix = spaces + '|--' if self.parent else '*~*'\n",
    "        print( prefix + self.data )\n",
    "#         level = 0\n",
    "        if self.children:\n",
    "            for child in self.children:\n",
    "                if child.get_level()<=what:\n",
    "                    child.print_tree(what)\n",
    "#                 level += 1"
   ]
  },
  {
   "cell_type": "code",
   "execution_count": 38,
   "id": "217a0b66",
   "metadata": {},
   "outputs": [],
   "source": [
    "def build_loc_tree():\n",
    "    root = LocationNode(\"Global\")\n",
    "    \n",
    "    ind = LocationNode(\"India\")\n",
    "    \n",
    "    guj = LocationNode(\"Gujarat\")\n",
    "    kar = LocationNode(\"Karnataka\")\n",
    "    \n",
    "    guj.add_child(LocationNode(\"Ahmedabad\"))\n",
    "    guj.add_child(LocationNode(\"Baroda\"))\n",
    "    \n",
    "    kar.add_child(LocationNode(\"Bangalore\"))\n",
    "    kar.add_child(LocationNode(\"Mysore\"))\n",
    "    \n",
    "    ind.add_child(guj)\n",
    "    ind.add_child(kar)\n",
    "    \n",
    "    usa = LocationNode(\"USA\")\n",
    "    \n",
    "    nj = LocationNode(\"New Jersey\")\n",
    "    clf = LocationNode(\"California\")\n",
    "    \n",
    "    nj.add_child(LocationNode(\"Princeton\"))\n",
    "    nj.add_child(LocationNode(\"Trenton\"))\n",
    "    \n",
    "    clf.add_child(LocationNode(\"San Francisco\"))\n",
    "    clf.add_child(LocationNode(\"Mountain View\"))\n",
    "    clf.add_child(LocationNode(\"Palo Alto\"))\n",
    "    \n",
    "    usa.add_child(nj)\n",
    "    usa.add_child(clf)\n",
    "    \n",
    "    root.add_child(ind)\n",
    "    root.add_child(usa)\n",
    "    \n",
    "    return root"
   ]
  },
  {
   "cell_type": "code",
   "execution_count": 39,
   "id": "e176a71f",
   "metadata": {},
   "outputs": [],
   "source": [
    "loc = build_loc_tree()"
   ]
  },
  {
   "cell_type": "code",
   "execution_count": 42,
   "id": "455dc7cd",
   "metadata": {},
   "outputs": [
    {
     "name": "stdout",
     "output_type": "stream",
     "text": [
      "*~*Global\n",
      "   |--India\n",
      "      |--Gujarat\n",
      "         |--Ahmedabad\n",
      "         |--Baroda\n",
      "      |--Karnataka\n",
      "         |--Bangalore\n",
      "         |--Mysore\n",
      "   |--USA\n",
      "      |--New Jersey\n",
      "         |--Princeton\n",
      "         |--Trenton\n",
      "      |--California\n",
      "         |--San Francisco\n",
      "         |--Mountain View\n",
      "         |--Palo Alto\n"
     ]
    }
   ],
   "source": [
    "loc.print_tree(3)"
   ]
  },
  {
   "cell_type": "code",
   "execution_count": null,
   "id": "b6045c2a",
   "metadata": {},
   "outputs": [],
   "source": []
  }
 ],
 "metadata": {
  "kernelspec": {
   "display_name": "Python 3",
   "language": "python",
   "name": "python3"
  },
  "language_info": {
   "codemirror_mode": {
    "name": "ipython",
    "version": 3
   },
   "file_extension": ".py",
   "mimetype": "text/x-python",
   "name": "python",
   "nbconvert_exporter": "python",
   "pygments_lexer": "ipython3",
   "version": "3.7.0"
  }
 },
 "nbformat": 4,
 "nbformat_minor": 5
}

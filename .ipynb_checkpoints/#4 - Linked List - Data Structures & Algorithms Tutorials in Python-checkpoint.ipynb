{
 "cells": [
  {
   "cell_type": "markdown",
   "id": "1a85b1cf",
   "metadata": {},
   "source": [
    "This is recreating in-video exercise"
   ]
  },
  {
   "cell_type": "code",
   "execution_count": 1,
   "id": "6274b5d5",
   "metadata": {},
   "outputs": [],
   "source": [
    "class Node:\n",
    "    def __init__(self, data=None, next=None):\n",
    "        self.data = data\n",
    "        self.next = next"
   ]
  },
  {
   "cell_type": "code",
   "execution_count": 2,
   "id": "5e300054",
   "metadata": {},
   "outputs": [],
   "source": [
    "class LinkedList:\n",
    "    def __init__(self):\n",
    "        self.head = None\n",
    "    \n",
    "    def insert_at_begining(self, data):\n",
    "            self.head = Node(data, self.head)\n",
    "            return\n",
    "    \n",
    "    def insert_at_end(self, data):\n",
    "        if self.head is None:\n",
    "            self.head = Node(data, None)\n",
    "            return\n",
    "        \n",
    "        itr = self.head\n",
    "        while itr.next:\n",
    "            itr = itr.next\n",
    "        \n",
    "        itr.next = Node(data, None)\n",
    "    \n",
    "    def insert_values(self, listd):\n",
    "        \"\"\"Wiping out all values and inserting new values\"\"\"\n",
    "        self.head = None\n",
    "        for i in listd:\n",
    "            self.insert_at_end(i)\n",
    "    \n",
    "    def print_list(self):\n",
    "        if self.head is None:\n",
    "            print(\"Empty LinkedList\")\n",
    "            return\n",
    "\n",
    "        itr = self.head\n",
    "        str_ = ''\n",
    "        while itr:\n",
    "            str_ += str(itr.data) + '-->'\n",
    "            itr = itr.next\n",
    "        print(str_)\n",
    "    \n",
    "    def get_length(self):\n",
    "        cnt = 0\n",
    "        itr = self.head\n",
    "        while itr:\n",
    "            cnt += 1\n",
    "            itr = itr.next\n",
    "        \n",
    "        return cnt\n",
    "    \n",
    "    def remove_at(self, index):\n",
    "        if index<0 or index>=self.get_length():\n",
    "            raise Exception(\"Invalid Index\")\n",
    "        \n",
    "        if index==0:\n",
    "            self.head = self.head.next\n",
    "            return\n",
    "        \n",
    "        cnt = 0\n",
    "        itr = self.head\n",
    "        while itr:\n",
    "            if cnt == index - 1:\n",
    "                itr.next = itr.next.next\n",
    "                break\n",
    "            itr = itr.next\n",
    "            cnt += 1\n",
    "\n",
    "    def insert_at(self, index, data):\n",
    "        if index<0 or index>=self.get_length():\n",
    "            raise Exception(\"Invalid Index\")\n",
    "        \n",
    "        if index == 0:\n",
    "            self.insert_at_begining(data)\n",
    "            return\n",
    "        \n",
    "        cnt = 0\n",
    "        itr = self.head\n",
    "        while itr:\n",
    "            if cnt == index-1:\n",
    "                node = Node(data, itr.next)\n",
    "                itr.next = node\n",
    "                break       \n",
    "            itr = itr.next\n",
    "            cnt += 1"
   ]
  },
  {
   "cell_type": "code",
   "execution_count": 3,
   "id": "67c7f5a3",
   "metadata": {},
   "outputs": [
    {
     "name": "stdout",
     "output_type": "stream",
     "text": [
      "Empty LinkedList\n"
     ]
    }
   ],
   "source": [
    "ll1 = LinkedList()\n",
    "ll1.print_list()"
   ]
  },
  {
   "cell_type": "code",
   "execution_count": 4,
   "id": "e72ddd97",
   "metadata": {},
   "outputs": [
    {
     "name": "stdout",
     "output_type": "stream",
     "text": [
      "12-->212-->\n"
     ]
    }
   ],
   "source": [
    "ll2 = LinkedList()\n",
    "ll2.insert_at_begining(212)\n",
    "ll2.insert_at_begining(12)\n",
    "ll2.print_list()"
   ]
  },
  {
   "cell_type": "code",
   "execution_count": 5,
   "id": "678dcb30",
   "metadata": {},
   "outputs": [
    {
     "name": "stdout",
     "output_type": "stream",
     "text": [
      "54-->42-->64-->95-->\n"
     ]
    }
   ],
   "source": [
    "ll3 = LinkedList()\n",
    "ll3.insert_at_end(64)\n",
    "ll3.insert_at_begining(42)\n",
    "ll3.insert_at_begining(54)\n",
    "ll3.insert_at_end(95)\n",
    "ll3.print_list()"
   ]
  },
  {
   "cell_type": "code",
   "execution_count": 6,
   "id": "2fe1e345",
   "metadata": {},
   "outputs": [
    {
     "name": "stdout",
     "output_type": "stream",
     "text": [
      "12-->23-->34-->56-->54-->64-->\n"
     ]
    }
   ],
   "source": [
    "ll4 = LinkedList()\n",
    "ll4.insert_values([12,23,34,56,54,64])\n",
    "ll4.print_list()"
   ]
  },
  {
   "cell_type": "code",
   "execution_count": 7,
   "id": "3290b674",
   "metadata": {},
   "outputs": [
    {
     "data": {
      "text/plain": [
       "6"
      ]
     },
     "execution_count": 7,
     "metadata": {},
     "output_type": "execute_result"
    }
   ],
   "source": [
    "ll4.get_length()"
   ]
  },
  {
   "cell_type": "code",
   "execution_count": 8,
   "id": "617211c1",
   "metadata": {},
   "outputs": [
    {
     "name": "stdout",
     "output_type": "stream",
     "text": [
      "12-->23-->56-->54-->64-->\n"
     ]
    }
   ],
   "source": [
    "ll4.remove_at(2)\n",
    "ll4.print_list()"
   ]
  },
  {
   "cell_type": "code",
   "execution_count": 9,
   "id": "ba91b51a",
   "metadata": {},
   "outputs": [
    {
     "name": "stdout",
     "output_type": "stream",
     "text": [
      "12-->23-->345-->56-->54-->64-->\n"
     ]
    }
   ],
   "source": [
    "ll4.insert_at(2, 345)\n",
    "ll4.print_list()"
   ]
  }
 ],
 "metadata": {
  "kernelspec": {
   "display_name": "Python 3",
   "language": "python",
   "name": "python3"
  },
  "language_info": {
   "codemirror_mode": {
    "name": "ipython",
    "version": 3
   },
   "file_extension": ".py",
   "mimetype": "text/x-python",
   "name": "python",
   "nbconvert_exporter": "python",
   "pygments_lexer": "ipython3",
   "version": "3.7.0"
  }
 },
 "nbformat": 4,
 "nbformat_minor": 5
}

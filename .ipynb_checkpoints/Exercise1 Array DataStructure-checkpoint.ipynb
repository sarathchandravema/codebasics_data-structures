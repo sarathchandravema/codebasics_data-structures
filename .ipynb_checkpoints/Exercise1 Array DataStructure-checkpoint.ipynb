{
 "cells": [
  {
   "cell_type": "markdown",
   "id": "5129c9d1",
   "metadata": {},
   "source": [
    "https://github.com/codebasics/data-structures-algorithms-python/blob/master/data_structures/2_Arrays/2_arrays_exercise.md"
   ]
  },
  {
   "cell_type": "markdown",
   "id": "a51280f9",
   "metadata": {},
   "source": [
    "Let us say your expense for every month are listed below,\n",
    "\n",
    "January - 2200; February - 2350; March - 2600; April - 2130; May - 2190\n",
    "\n",
    "Create a list to store these monthly expenses and using that find out,\n",
    "\n",
    "1. In Feb, how many dollars you spent extra compare to January?\n",
    "2. Find out your total expense in first quarter (first three months) of the year.\n",
    "3. Find out if you spent exactly 2000 dollars in any month\n",
    "4. June month just finished and your expense is 1980 dollar. Add this item to our monthly expense list\n",
    "5. You returned an item that you bought in a month of April and\n",
    "got a refund of 200$. Make a correction to your monthly expense list\n",
    "based on this"
   ]
  },
  {
   "cell_type": "code",
   "execution_count": 1,
   "id": "2de56691",
   "metadata": {},
   "outputs": [],
   "source": [
    "expense_list = [2200, 2350, 2600, 2130, 2190]"
   ]
  },
  {
   "cell_type": "code",
   "execution_count": 2,
   "id": "c5c3ac57",
   "metadata": {},
   "outputs": [
    {
     "name": "stdout",
     "output_type": "stream",
     "text": [
      "In Feb , extra to Jan  150\n"
     ]
    }
   ],
   "source": [
    "print(\"In Feb , extra to Jan \", expense_list[1]-expense_list[0])"
   ]
  },
  {
   "cell_type": "code",
   "execution_count": 3,
   "id": "2946c898",
   "metadata": {},
   "outputs": [
    {
     "name": "stdout",
     "output_type": "stream",
     "text": [
      " Total in 1st quarter  7150\n"
     ]
    }
   ],
   "source": [
    "print(\" Total in 1st quarter \", expense_list[0]+expense_list[1]+expense_list[2])"
   ]
  },
  {
   "cell_type": "code",
   "execution_count": 4,
   "id": "1a28b460",
   "metadata": {},
   "outputs": [
    {
     "name": "stdout",
     "output_type": "stream",
     "text": [
      " 2000$ in any month  False\n"
     ]
    }
   ],
   "source": [
    "print(\" 2000$ in any month \", 2000 in expense_list)"
   ]
  },
  {
   "cell_type": "code",
   "execution_count": 6,
   "id": "27583959",
   "metadata": {},
   "outputs": [
    {
     "name": "stdout",
     "output_type": "stream",
     "text": [
      " new list  [2200, 2350, 2600, 2130, 2190, 1980]\n"
     ]
    }
   ],
   "source": [
    "expense_list.append(1980)\n",
    "print(\" new list \", expense_list )"
   ]
  },
  {
   "cell_type": "code",
   "execution_count": 8,
   "id": "eafc5451",
   "metadata": {},
   "outputs": [
    {
     "name": "stdout",
     "output_type": "stream",
     "text": [
      " new list  [2200, 2350, 2600, 1930, 2190, 1980]\n"
     ]
    }
   ],
   "source": [
    "expense_list[3] = expense_list[3] - 200\n",
    "print( \" new list \", expense_list)"
   ]
  },
  {
   "cell_type": "markdown",
   "id": "627550d3",
   "metadata": {},
   "source": [
    "__________________________________________"
   ]
  },
  {
   "cell_type": "code",
   "execution_count": 21,
   "id": "806ba86c",
   "metadata": {},
   "outputs": [],
   "source": [
    "heros=['spider man','thor','hulk','iron man','captain america']"
   ]
  },
  {
   "cell_type": "markdown",
   "id": "2f0b5a99",
   "metadata": {},
   "source": [
    "1. Length of the list\n",
    "2. Add 'black panther' at the end of this list\n",
    "3. You realize that you need to add 'black panther' after 'hulk',\n",
    "   so remove it from the list first and then add it after 'hulk'\n",
    "4. Now you don't like thor and hulk because they get angry easily :)\n",
    "   So you want to remove thor and hulk from list and replace them with doctor strange (because he is cool).\n",
    "   Do that with one line of code.\n",
    "5. Sort the heros list in alphabetical order (Hint. Use dir() functions to list down all functions available in list)"
   ]
  },
  {
   "cell_type": "code",
   "execution_count": 22,
   "id": "450f1d28",
   "metadata": {},
   "outputs": [
    {
     "name": "stdout",
     "output_type": "stream",
     "text": [
      " length  5\n"
     ]
    }
   ],
   "source": [
    "print(\" length \", len(heros))"
   ]
  },
  {
   "cell_type": "code",
   "execution_count": 23,
   "id": "9acd60a1",
   "metadata": {},
   "outputs": [],
   "source": [
    "heros.append(\"black panther\")"
   ]
  },
  {
   "cell_type": "code",
   "execution_count": 24,
   "id": "5f3faf01",
   "metadata": {},
   "outputs": [
    {
     "name": "stdout",
     "output_type": "stream",
     "text": [
      " new list  ['spider man', 'thor', 'hulk', 'iron man', 'captain america', 'black panther']\n"
     ]
    }
   ],
   "source": [
    "print(\" new list \", heros)"
   ]
  },
  {
   "cell_type": "code",
   "execution_count": 25,
   "id": "20b00487",
   "metadata": {},
   "outputs": [
    {
     "name": "stdout",
     "output_type": "stream",
     "text": [
      " new list  ['spider man', 'thor', 'hulk', 'black panther', 'iron man', 'captain america']\n"
     ]
    }
   ],
   "source": [
    "heros.remove(\"black panther\")\n",
    "heros.insert(3, \"black panther\" )\n",
    "print(\" new list \", heros)"
   ]
  },
  {
   "cell_type": "code",
   "execution_count": 26,
   "id": "af484af4",
   "metadata": {},
   "outputs": [
    {
     "name": "stdout",
     "output_type": "stream",
     "text": [
      " new list  ['spider man', 'Doctor Strange', 'black panther', 'iron man', 'captain america']\n"
     ]
    }
   ],
   "source": [
    "heros[1:3] = [\"Doctor Strange\"]\n",
    "print(\" new list \", heros)"
   ]
  },
  {
   "cell_type": "code",
   "execution_count": 27,
   "id": "d9eaed25",
   "metadata": {},
   "outputs": [
    {
     "data": {
      "text/plain": [
       "['__add__',\n",
       " '__class__',\n",
       " '__contains__',\n",
       " '__delattr__',\n",
       " '__delitem__',\n",
       " '__dir__',\n",
       " '__doc__',\n",
       " '__eq__',\n",
       " '__format__',\n",
       " '__ge__',\n",
       " '__getattribute__',\n",
       " '__getitem__',\n",
       " '__gt__',\n",
       " '__hash__',\n",
       " '__iadd__',\n",
       " '__imul__',\n",
       " '__init__',\n",
       " '__init_subclass__',\n",
       " '__iter__',\n",
       " '__le__',\n",
       " '__len__',\n",
       " '__lt__',\n",
       " '__mul__',\n",
       " '__ne__',\n",
       " '__new__',\n",
       " '__reduce__',\n",
       " '__reduce_ex__',\n",
       " '__repr__',\n",
       " '__reversed__',\n",
       " '__rmul__',\n",
       " '__setattr__',\n",
       " '__setitem__',\n",
       " '__sizeof__',\n",
       " '__str__',\n",
       " '__subclasshook__',\n",
       " 'append',\n",
       " 'clear',\n",
       " 'copy',\n",
       " 'count',\n",
       " 'extend',\n",
       " 'index',\n",
       " 'insert',\n",
       " 'pop',\n",
       " 'remove',\n",
       " 'reverse',\n",
       " 'sort']"
      ]
     },
     "execution_count": 27,
     "metadata": {},
     "output_type": "execute_result"
    }
   ],
   "source": [
    "dir(list)"
   ]
  },
  {
   "cell_type": "code",
   "execution_count": 28,
   "id": "adab964c",
   "metadata": {},
   "outputs": [
    {
     "name": "stdout",
     "output_type": "stream",
     "text": [
      " new list  ['Doctor Strange', 'black panther', 'captain america', 'iron man', 'spider man']\n"
     ]
    }
   ],
   "source": [
    "heros.sort()\n",
    "print(\" new list \", heros)"
   ]
  },
  {
   "cell_type": "code",
   "execution_count": 34,
   "id": "4d72204f",
   "metadata": {},
   "outputs": [
    {
     "data": {
      "text/plain": [
       "0"
      ]
     },
     "execution_count": 34,
     "metadata": {},
     "output_type": "execute_result"
    }
   ],
   "source": [
    "4%2"
   ]
  },
  {
   "cell_type": "code",
   "execution_count": 37,
   "id": "dca6f690",
   "metadata": {},
   "outputs": [],
   "source": [
    "def oddnos(maxn):\n",
    "    res = []\n",
    "    for i in range(1, maxn):\n",
    "        if (i%2 == 1):\n",
    "            res.append(i)\n",
    "    \n",
    "    return res"
   ]
  },
  {
   "cell_type": "code",
   "execution_count": 39,
   "id": "e37342dc",
   "metadata": {},
   "outputs": [
    {
     "data": {
      "text/plain": [
       "[1, 3, 5, 7, 9, 11, 13, 15, 17]"
      ]
     },
     "execution_count": 39,
     "metadata": {},
     "output_type": "execute_result"
    }
   ],
   "source": [
    "oddnos(19)"
   ]
  },
  {
   "cell_type": "code",
   "execution_count": null,
   "id": "fff9999b",
   "metadata": {},
   "outputs": [],
   "source": []
  }
 ],
 "metadata": {
  "kernelspec": {
   "display_name": "Python 3",
   "language": "python",
   "name": "python3"
  },
  "language_info": {
   "codemirror_mode": {
    "name": "ipython",
    "version": 3
   },
   "file_extension": ".py",
   "mimetype": "text/x-python",
   "name": "python",
   "nbconvert_exporter": "python",
   "pygments_lexer": "ipython3",
   "version": "3.7.0"
  }
 },
 "nbformat": 4,
 "nbformat_minor": 5
}

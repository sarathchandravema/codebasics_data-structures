{
 "cells": [
  {
   "cell_type": "code",
   "execution_count": 1,
   "id": "dec61009",
   "metadata": {},
   "outputs": [],
   "source": [
    "class TreeNode:\n",
    "    def __init__(self, data):\n",
    "        self.data = data\n",
    "        self.children = []\n",
    "        self.parent = None\n",
    "    \n",
    "    def add_child(self, child):\n",
    "        child.parent = self\n",
    "        self.children.append(child)\n",
    "    \n",
    "    def get_level(self):\n",
    "        level = 0\n",
    "        p = self.parent\n",
    "        while p:\n",
    "            level += 1\n",
    "            p = p.parent\n",
    "        return level\n",
    "    \n",
    "    def print_tree(self):\n",
    "        spaces = ' ' * self.get_level() * 3\n",
    "        prefix = spaces + '|--' if self.parent else '*~*'\n",
    "        print( prefix + self.data)\n",
    "        if self.children:\n",
    "            for child in self.children:\n",
    "                child.print_tree()"
   ]
  },
  {
   "cell_type": "code",
   "execution_count": 2,
   "id": "74142bce",
   "metadata": {},
   "outputs": [],
   "source": [
    "def build_product_tree():\n",
    "    root = TreeNode(\"Electronics\")\n",
    "    \n",
    "    laptop = TreeNode(\"Laptop\")\n",
    "    laptop.add_child(TreeNode(\"Mac\"))\n",
    "    laptop.add_child(TreeNode(\"Surface\"))\n",
    "    laptop.add_child(TreeNode(\"Thinkpad\"))\n",
    "    \n",
    "    cellp = TreeNode(\"Cell Phone\")\n",
    "    cellp.add_child(TreeNode(\"iPhone\"))\n",
    "    cellp.add_child(TreeNode(\"Google Pixel\"))\n",
    "    cellp.add_child(TreeNode(\"Vivo\"))\n",
    "    \n",
    "    tv = TreeNode(\"TV\")\n",
    "    sms = TreeNode(\"Samsung\")\n",
    "    tv.add_child(sms)\n",
    "    tv.add_child(TreeNode(\"LG\"))\n",
    "    \n",
    "    root.add_child(laptop)\n",
    "    root.add_child(cellp)\n",
    "    root.add_child(tv)\n",
    "    \n",
    "    print(sms.get_level())\n",
    "    return root"
   ]
  },
  {
   "cell_type": "code",
   "execution_count": 3,
   "id": "23a0fc90",
   "metadata": {},
   "outputs": [
    {
     "name": "stdout",
     "output_type": "stream",
     "text": [
      "2\n"
     ]
    }
   ],
   "source": [
    "rt = build_product_tree()"
   ]
  },
  {
   "cell_type": "code",
   "execution_count": 4,
   "id": "4827e647",
   "metadata": {},
   "outputs": [
    {
     "name": "stdout",
     "output_type": "stream",
     "text": [
      "*~*Electronics\n",
      "   |--Laptop\n",
      "      |--Mac\n",
      "      |--Surface\n",
      "      |--Thinkpad\n",
      "   |--Cell Phone\n",
      "      |--iPhone\n",
      "      |--Google Pixel\n",
      "      |--Vivo\n",
      "   |--TV\n",
      "      |--Samsung\n",
      "      |--LG\n"
     ]
    }
   ],
   "source": [
    "rt.print_tree()"
   ]
  },
  {
   "cell_type": "code",
   "execution_count": null,
   "id": "6c6bc277",
   "metadata": {},
   "outputs": [],
   "source": []
  }
 ],
 "metadata": {
  "kernelspec": {
   "display_name": "Python 3",
   "language": "python",
   "name": "python3"
  },
  "language_info": {
   "codemirror_mode": {
    "name": "ipython",
    "version": 3
   },
   "file_extension": ".py",
   "mimetype": "text/x-python",
   "name": "python",
   "nbconvert_exporter": "python",
   "pygments_lexer": "ipython3",
   "version": "3.7.0"
  }
 },
 "nbformat": 4,
 "nbformat_minor": 5
}

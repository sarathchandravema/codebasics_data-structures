{
 "cells": [
  {
   "cell_type": "code",
   "execution_count": 8,
   "id": "800b089e",
   "metadata": {},
   "outputs": [],
   "source": [
    "class BinarySearchTreeNode:\n",
    "    def __init__(self, data):\n",
    "        self.data  = data\n",
    "        self.left  = None\n",
    "        self.right = None\n",
    "    \n",
    "    def add_child(self, data):\n",
    "        if self.data == data:\n",
    "            return\n",
    "        \n",
    "        if data < self.data:\n",
    "            # add data in left subtree\n",
    "            if self.left:\n",
    "                self.left.add_child(data)\n",
    "            else:\n",
    "                self.left = BinarySearchTreeNode(data)\n",
    "        else:\n",
    "            # add data in right subtree\n",
    "            if self.right:\n",
    "                self.right.add_child(data)\n",
    "            else:\n",
    "                self.right = BinarySearchTreeNode(data)\n",
    "    \n",
    "    def in_order_traversal(self):\n",
    "        elements = []\n",
    "        \n",
    "        #visit left sub tree\n",
    "        if self.left:\n",
    "            elements += self.left.in_order_traversal()\n",
    "        \n",
    "        # visit base node\n",
    "        elements.append(self.data)\n",
    "        \n",
    "        #visit right sub tree\n",
    "        if self.right:\n",
    "            elements += self.right.in_order_traversal()\n",
    "        \n",
    "        return elements\n",
    "    \n",
    "    def search(self, val):\n",
    "        if self.data == val:\n",
    "            return True\n",
    "        \n",
    "        if val < self.data:\n",
    "            #val might be in left sub-tree\n",
    "            if self.left:\n",
    "                return self.left.search(val)\n",
    "            else:\n",
    "                return False\n",
    "        else:\n",
    "            #val might be in right sub-tree\n",
    "            if self.right:\n",
    "                return self.right.search(val)\n",
    "            else:\n",
    "                return False"
   ]
  },
  {
   "cell_type": "code",
   "execution_count": 9,
   "id": "0060b50a",
   "metadata": {},
   "outputs": [],
   "source": [
    "def build_tree(elem):\n",
    "    root = BinarySearchTreeNode(elem[0])\n",
    "    \n",
    "    for i in range(1, len(elem)):\n",
    "        root.add_child(elem[i])\n",
    "    \n",
    "    return root"
   ]
  },
  {
   "cell_type": "code",
   "execution_count": 10,
   "id": "63b57802",
   "metadata": {},
   "outputs": [],
   "source": [
    "numbers = [17, 4, 1, 20, 9, 23, 18, 34]\n",
    "num_tree = build_tree(numbers)"
   ]
  },
  {
   "cell_type": "code",
   "execution_count": 11,
   "id": "4ebdac16",
   "metadata": {},
   "outputs": [
    {
     "name": "stdout",
     "output_type": "stream",
     "text": [
      "[1, 4, 9, 17, 18, 20, 23, 34]\n"
     ]
    }
   ],
   "source": [
    "print(num_tree.in_order_traversal())"
   ]
  },
  {
   "cell_type": "code",
   "execution_count": 14,
   "id": "6995ad46",
   "metadata": {},
   "outputs": [
    {
     "name": "stdout",
     "output_type": "stream",
     "text": [
      "False\n"
     ]
    }
   ],
   "source": [
    "print(num_tree.search(200))"
   ]
  },
  {
   "cell_type": "code",
   "execution_count": null,
   "id": "c28fbbf1",
   "metadata": {},
   "outputs": [],
   "source": []
  }
 ],
 "metadata": {
  "kernelspec": {
   "display_name": "Python 3",
   "language": "python",
   "name": "python3"
  },
  "language_info": {
   "codemirror_mode": {
    "name": "ipython",
    "version": 3
   },
   "file_extension": ".py",
   "mimetype": "text/x-python",
   "name": "python",
   "nbconvert_exporter": "python",
   "pygments_lexer": "ipython3",
   "version": "3.7.0"
  }
 },
 "nbformat": 4,
 "nbformat_minor": 5
}

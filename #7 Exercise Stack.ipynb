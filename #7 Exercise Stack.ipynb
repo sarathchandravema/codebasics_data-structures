{
 "cells": [
  {
   "cell_type": "markdown",
   "id": "19c356bc",
   "metadata": {},
   "source": [
    "github.com/codebasics/data-structures-algorithms-python/blob/master/data_structures/5_Stack/5_stack_exercise.md"
   ]
  },
  {
   "cell_type": "code",
   "execution_count": 1,
   "id": "95db27d6",
   "metadata": {},
   "outputs": [],
   "source": [
    "from collections import deque"
   ]
  },
  {
   "cell_type": "code",
   "execution_count": 2,
   "id": "0f932878",
   "metadata": {},
   "outputs": [],
   "source": [
    "class Stack:\n",
    "    def __init__(self):\n",
    "        self.container = deque()\n",
    "    \n",
    "    def push(self,val):\n",
    "        self.container.append(val)\n",
    "        \n",
    "    def pop(self):\n",
    "        return self.container.pop()\n",
    "    \n",
    "    def peek(self):\n",
    "        return  self.container[-1]\n",
    "    \n",
    "    def is_empty(self):\n",
    "        return len(self.container)==0\n",
    "    \n",
    "    def size(self):\n",
    "        return len(self.container)"
   ]
  },
  {
   "cell_type": "code",
   "execution_count": 3,
   "id": "1337b942",
   "metadata": {},
   "outputs": [],
   "source": [
    "def reverse_string(inp):\n",
    "    s = Stack()\n",
    "    output = ''\n",
    "    for i in inp:\n",
    "        s.push(i)\n",
    "    \n",
    "    for i in range(s.size()):\n",
    "        output += s.pop()\n",
    "    return output"
   ]
  },
  {
   "cell_type": "code",
   "execution_count": 4,
   "id": "22910d91",
   "metadata": {},
   "outputs": [
    {
     "data": {
      "text/plain": [
       "'fdsa'"
      ]
     },
     "execution_count": 4,
     "metadata": {},
     "output_type": "execute_result"
    }
   ],
   "source": [
    "reverse_string('asdf')"
   ]
  },
  {
   "cell_type": "code",
   "execution_count": 5,
   "id": "962f65c3",
   "metadata": {},
   "outputs": [
    {
     "data": {
      "text/plain": [
       "'91-DIVOC ereuqnoc lliw eW'"
      ]
     },
     "execution_count": 5,
     "metadata": {},
     "output_type": "execute_result"
    }
   ],
   "source": [
    "reverse_string('We will conquere COVID-19')"
   ]
  },
  {
   "cell_type": "markdown",
   "id": "7efb1f11",
   "metadata": {},
   "source": [
    "-------------------------------------------"
   ]
  },
  {
   "cell_type": "code",
   "execution_count": 11,
   "id": "a97a3ead",
   "metadata": {},
   "outputs": [],
   "source": [
    "s = Stack()"
   ]
  },
  {
   "cell_type": "code",
   "execution_count": 17,
   "id": "13c7fcf5",
   "metadata": {},
   "outputs": [],
   "source": [
    "def is_match(ch1, ch2):\n",
    "    match_dict = {\n",
    "        ')': '(',\n",
    "        ']': '[',\n",
    "        '}': '{'\n",
    "    }\n",
    "    return match_dict[ch1] == ch2"
   ]
  },
  {
   "cell_type": "code",
   "execution_count": 20,
   "id": "14328e00",
   "metadata": {},
   "outputs": [],
   "source": [
    "def is_balanced(inp):\n",
    "    syms = ['(', ')', '{', '}', '[', ']']\n",
    "    s = Stack()\n",
    "    strs = ''\n",
    "    cnt1 = 0\n",
    "    for i in inp:\n",
    "        if i == '(' or i == '{' or i == '[':\n",
    "            s.push(i)\n",
    "        if i == ')' or i == '}' or i == ']':\n",
    "            if s.size() == 0:\n",
    "                return False\n",
    "            if not is_match(i, s.pop()):\n",
    "                return False\n",
    "    return s.size()==0"
   ]
  },
  {
   "cell_type": "code",
   "execution_count": 22,
   "id": "4274be01",
   "metadata": {},
   "outputs": [
    {
     "name": "stdout",
     "output_type": "stream",
     "text": [
      "True\n",
      "False\n",
      "True\n",
      "False\n",
      "True\n"
     ]
    }
   ],
   "source": [
    "print(is_balanced(\"({a+b})\"))\n",
    "print(is_balanced(\"))((a+b}{\"))\n",
    "print(is_balanced(\"((a+b))\"))\n",
    "print(is_balanced(\"))\"))\n",
    "print(is_balanced(\"[a+b]*(x+2y)*{gg+kk}\"))"
   ]
  }
 ],
 "metadata": {
  "kernelspec": {
   "display_name": "Python 3",
   "language": "python",
   "name": "python3"
  },
  "language_info": {
   "codemirror_mode": {
    "name": "ipython",
    "version": 3
   },
   "file_extension": ".py",
   "mimetype": "text/x-python",
   "name": "python",
   "nbconvert_exporter": "python",
   "pygments_lexer": "ipython3",
   "version": "3.7.0"
  }
 },
 "nbformat": 4,
 "nbformat_minor": 5
}

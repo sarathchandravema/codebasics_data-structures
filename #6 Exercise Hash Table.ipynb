{
 "cells": [
  {
   "cell_type": "markdown",
   "id": "437d1dc0",
   "metadata": {},
   "source": [
    "https://github.com/codebasics/data-structures-algorithms-python/blob/master/data_structures/4_HashTable_2_Collisions/4_hash_table_exercise.md"
   ]
  },
  {
   "cell_type": "code",
   "execution_count": 1,
   "id": "27e137ed",
   "metadata": {},
   "outputs": [],
   "source": [
    "class HashTable:\n",
    "    def __init__(self):\n",
    "        self.MAX = 10\n",
    "        self.arr = [[] for i in range(self.MAX)]\n",
    "    \n",
    "    def get_hash(self, key):\n",
    "        h = 0\n",
    "        for char in key:\n",
    "            h += ord(char)\n",
    "        return h % self.MAX\n",
    "    \n",
    "    def __setitem__(self, key, val):\n",
    "        h = self.get_hash(key)\n",
    "        found = False\n",
    "        for idx, element in enumerate(self.arr[h]):\n",
    "            if len(element) == 2 and element[0] == key:\n",
    "                self.arr[h][idx] = (key, val)\n",
    "                found = True\n",
    "                break\n",
    "        if not found:\n",
    "            self.arr[h].append((key, val))\n",
    "    \n",
    "    def __getitem__(self, key):\n",
    "        h = self.get_hash(key)\n",
    "        for idx, element in enumerate(self.arr[h]):\n",
    "            if len(element) == 2 and element[0] == key:\n",
    "                return element[1]\n",
    "    \n",
    "    def __delitem__(self, key):\n",
    "        h = self.get_hash(key)\n",
    "        for idx, element in enumerate(self.arr[h]):\n",
    "            if element[0] == key:\n",
    "                del self.arr[h][idx]\n",
    "    \n",
    "    def get_all_vals(self):\n",
    "        vals = []\n",
    "        for elem in self.arr:\n",
    "            for i in elem:\n",
    "                vals.append(i[1])\n",
    "        \n",
    "        return vals"
   ]
  },
  {
   "cell_type": "code",
   "execution_count": 2,
   "id": "12fab8ae",
   "metadata": {},
   "outputs": [],
   "source": [
    "weather = HashTable()"
   ]
  },
  {
   "cell_type": "code",
   "execution_count": 3,
   "id": "3a59e01d",
   "metadata": {
    "scrolled": true
   },
   "outputs": [],
   "source": [
    "with open('nyc_weather.csv') as f:\n",
    "    next(f) # to skip the header line\n",
    "    for line in f:\n",
    "        spl = line.rstrip('\\n').split(',')\n",
    "        weather[spl[0]] = int(spl[1])"
   ]
  },
  {
   "cell_type": "code",
   "execution_count": 5,
   "id": "2b013f0d",
   "metadata": {},
   "outputs": [
    {
     "data": {
      "text/plain": [
       "[[('Jan 9', 35), ('Jan 10', 30)],\n",
       " [],\n",
       " [('Jan 1', 27)],\n",
       " [('Jan 2', 31)],\n",
       " [('Jan 3', 23)],\n",
       " [('Jan 4', 34)],\n",
       " [('Jan 5', 37)],\n",
       " [('Jan 6', 38)],\n",
       " [('Jan 7', 29)],\n",
       " [('Jan 8', 30)]]"
      ]
     },
     "execution_count": 5,
     "metadata": {},
     "output_type": "execute_result"
    }
   ],
   "source": [
    "weather.arr"
   ]
  },
  {
   "cell_type": "code",
   "execution_count": 6,
   "id": "7acca90a",
   "metadata": {},
   "outputs": [
    {
     "data": {
      "text/plain": [
       "[35, 30, 27, 31, 23, 34, 37, 38, 29, 30]"
      ]
     },
     "execution_count": 6,
     "metadata": {},
     "output_type": "execute_result"
    }
   ],
   "source": [
    "weather.get_all_vals()"
   ]
  },
  {
   "cell_type": "code",
   "execution_count": 7,
   "id": "5a54bda8",
   "metadata": {},
   "outputs": [],
   "source": [
    "jan_1stweek = ['Jan 1', 'Jan 2', 'Jan 3', 'Jan 4', 'Jan 5', 'Jan 6', 'Jan 7']"
   ]
  },
  {
   "cell_type": "code",
   "execution_count": 8,
   "id": "9e099a32",
   "metadata": {},
   "outputs": [],
   "source": [
    "temp_1stweek = []\n",
    "for i in jan_1stweek:\n",
    "    temp_1stweek.append(weather[i])"
   ]
  },
  {
   "cell_type": "code",
   "execution_count": 9,
   "id": "6b6f67e8",
   "metadata": {},
   "outputs": [
    {
     "data": {
      "text/plain": [
       "[27, 31, 23, 34, 37, 38, 29]"
      ]
     },
     "execution_count": 9,
     "metadata": {},
     "output_type": "execute_result"
    }
   ],
   "source": [
    "temp_1stweek"
   ]
  },
  {
   "cell_type": "code",
   "execution_count": 10,
   "id": "6816c640",
   "metadata": {},
   "outputs": [
    {
     "data": {
      "text/plain": [
       "31.285714285714285"
      ]
     },
     "execution_count": 10,
     "metadata": {},
     "output_type": "execute_result"
    }
   ],
   "source": [
    "sum(temp_1stweek) / len(temp_1stweek)"
   ]
  },
  {
   "cell_type": "code",
   "execution_count": 11,
   "id": "0bad7ab6",
   "metadata": {},
   "outputs": [
    {
     "data": {
      "text/plain": [
       "38"
      ]
     },
     "execution_count": 11,
     "metadata": {},
     "output_type": "execute_result"
    }
   ],
   "source": [
    "max(temp_1stweek)"
   ]
  },
  {
   "cell_type": "markdown",
   "id": "350eeecc",
   "metadata": {},
   "source": [
    "------------------------------------"
   ]
  },
  {
   "cell_type": "code",
   "execution_count": 44,
   "id": "f975ff73",
   "metadata": {},
   "outputs": [],
   "source": [
    "with open('poem.txt') as f:\n",
    "    line = f.read()"
   ]
  },
  {
   "cell_type": "code",
   "execution_count": 45,
   "id": "6bbaf47d",
   "metadata": {},
   "outputs": [],
   "source": [
    "words = [i.replace(',', '').replace('.', '') for i in line.split()]"
   ]
  },
  {
   "cell_type": "code",
   "execution_count": 46,
   "id": "be90c32e",
   "metadata": {},
   "outputs": [],
   "source": [
    "word_count = {}"
   ]
  },
  {
   "cell_type": "code",
   "execution_count": 47,
   "id": "37b95039",
   "metadata": {},
   "outputs": [],
   "source": [
    "for i in words:\n",
    "    cnt = 0\n",
    "    for j in words:\n",
    "        if i == j:\n",
    "            cnt += 1\n",
    "    \n",
    "    word_count[i] = cnt"
   ]
  },
  {
   "cell_type": "code",
   "execution_count": 48,
   "id": "2d774fec",
   "metadata": {
    "scrolled": true
   },
   "outputs": [
    {
     "data": {
      "text/plain": [
       "{'Two': 2,\n",
       " 'roads': 2,\n",
       " 'diverged': 2,\n",
       " 'in': 3,\n",
       " 'a': 3,\n",
       " 'yellow': 1,\n",
       " 'wood': 2,\n",
       " 'And': 6,\n",
       " 'sorry': 1,\n",
       " 'I': 8,\n",
       " 'could': 2,\n",
       " 'not': 1,\n",
       " 'travel': 1,\n",
       " 'both': 2,\n",
       " 'be': 2,\n",
       " 'one': 3,\n",
       " 'traveler': 1,\n",
       " 'long': 1,\n",
       " 'stood': 1,\n",
       " 'looked': 1,\n",
       " 'down': 1,\n",
       " 'as': 5,\n",
       " 'far': 1,\n",
       " 'To': 1,\n",
       " 'where': 1,\n",
       " 'it': 2,\n",
       " 'bent': 1,\n",
       " 'the': 8,\n",
       " 'undergrowth;': 1,\n",
       " 'Then': 1,\n",
       " 'took': 2,\n",
       " 'other': 1,\n",
       " 'just': 1,\n",
       " 'fair': 1,\n",
       " 'having': 1,\n",
       " 'perhaps': 1,\n",
       " 'better': 1,\n",
       " 'claim': 1,\n",
       " 'Because': 1,\n",
       " 'was': 1,\n",
       " 'grassy': 1,\n",
       " 'and': 3,\n",
       " 'wanted': 1,\n",
       " 'wear;': 1,\n",
       " 'Though': 1,\n",
       " 'for': 2,\n",
       " 'that': 3,\n",
       " 'passing': 1,\n",
       " 'there': 1,\n",
       " 'Had': 1,\n",
       " 'worn': 1,\n",
       " 'them': 1,\n",
       " 'really': 1,\n",
       " 'about': 1,\n",
       " 'same': 1,\n",
       " 'morning': 1,\n",
       " 'equally': 1,\n",
       " 'lay': 1,\n",
       " 'In': 1,\n",
       " 'leaves': 1,\n",
       " 'no': 1,\n",
       " 'step': 1,\n",
       " 'had': 1,\n",
       " 'trodden': 1,\n",
       " 'black': 1,\n",
       " 'Oh': 1,\n",
       " 'kept': 1,\n",
       " 'first': 1,\n",
       " 'another': 1,\n",
       " 'day!': 1,\n",
       " 'Yet': 1,\n",
       " 'knowing': 1,\n",
       " 'how': 1,\n",
       " 'way': 2,\n",
       " 'leads': 1,\n",
       " 'on': 1,\n",
       " 'to': 1,\n",
       " 'doubted': 1,\n",
       " 'if': 1,\n",
       " 'should': 1,\n",
       " 'ever': 1,\n",
       " 'come': 1,\n",
       " 'back': 1,\n",
       " 'shall': 1,\n",
       " 'telling': 1,\n",
       " 'this': 1,\n",
       " 'with': 1,\n",
       " 'sigh': 1,\n",
       " 'Somewhere': 1,\n",
       " 'ages': 2,\n",
       " 'hence:': 1,\n",
       " 'Iâ€”': 1,\n",
       " 'less': 1,\n",
       " 'traveled': 1,\n",
       " 'by': 1,\n",
       " 'has': 1,\n",
       " 'made': 1,\n",
       " 'all': 1,\n",
       " 'difference': 1}"
      ]
     },
     "execution_count": 48,
     "metadata": {},
     "output_type": "execute_result"
    }
   ],
   "source": [
    "word_count"
   ]
  },
  {
   "cell_type": "code",
   "execution_count": 50,
   "id": "7c113697",
   "metadata": {},
   "outputs": [
    {
     "data": {
      "text/plain": [
       "2"
      ]
     },
     "execution_count": 50,
     "metadata": {},
     "output_type": "execute_result"
    }
   ],
   "source": [
    "word_count['wood']"
   ]
  },
  {
   "cell_type": "code",
   "execution_count": 51,
   "id": "1d43204b",
   "metadata": {},
   "outputs": [],
   "source": [
    "word_cnt = {}"
   ]
  },
  {
   "cell_type": "code",
   "execution_count": 54,
   "id": "c6eaf7d6",
   "metadata": {},
   "outputs": [],
   "source": [
    "with open('poem.txt', 'r') as f:\n",
    "    for line in f:\n",
    "        tokens = line.split(' ')\n",
    "        for token in tokens:\n",
    "#             print(token)\n",
    "            token = token.rstrip(',')\n",
    "            token = token.rstrip('.')\n",
    "            token = token.rstrip('\\n')\n",
    "#             print(token)\n",
    "            if token in word_cnt:\n",
    "                word_cnt[token] += 1\n",
    "            else:\n",
    "                word_cnt[token] = 1"
   ]
  },
  {
   "cell_type": "code",
   "execution_count": 55,
   "id": "faf7998d",
   "metadata": {
    "scrolled": true
   },
   "outputs": [
    {
     "data": {
      "text/plain": [
       "{'Two': 6,\n",
       " 'roads': 6,\n",
       " 'diverged': 6,\n",
       " 'in': 9,\n",
       " 'a': 9,\n",
       " 'yellow': 3,\n",
       " 'wood,': 3,\n",
       " 'And': 18,\n",
       " 'sorry': 3,\n",
       " 'I': 24,\n",
       " 'could': 6,\n",
       " 'not': 3,\n",
       " 'travel': 3,\n",
       " 'both': 6,\n",
       " 'be': 6,\n",
       " 'one': 9,\n",
       " 'traveler': 3,\n",
       " 'long': 3,\n",
       " 'stood': 3,\n",
       " 'looked': 3,\n",
       " 'down': 3,\n",
       " 'as': 15,\n",
       " 'far': 3,\n",
       " 'To': 3,\n",
       " 'where': 3,\n",
       " 'it': 6,\n",
       " 'bent': 3,\n",
       " 'the': 24,\n",
       " 'undergrowth;': 3,\n",
       " '': 9,\n",
       " 'Then': 3,\n",
       " 'took': 6,\n",
       " 'other': 3,\n",
       " 'just': 3,\n",
       " 'fair,': 3,\n",
       " 'having': 3,\n",
       " 'perhaps': 3,\n",
       " 'better': 3,\n",
       " 'claim,': 3,\n",
       " 'Because': 3,\n",
       " 'was': 3,\n",
       " 'grassy': 3,\n",
       " 'and': 9,\n",
       " 'wanted': 3,\n",
       " 'wear;': 3,\n",
       " 'Though': 3,\n",
       " 'for': 6,\n",
       " 'that': 9,\n",
       " 'passing': 3,\n",
       " 'there': 3,\n",
       " 'Had': 3,\n",
       " 'worn': 3,\n",
       " 'them': 3,\n",
       " 'really': 3,\n",
       " 'about': 3,\n",
       " 'same,': 3,\n",
       " 'morning': 3,\n",
       " 'equally': 3,\n",
       " 'lay': 3,\n",
       " 'In': 3,\n",
       " 'leaves': 3,\n",
       " 'no': 3,\n",
       " 'step': 3,\n",
       " 'had': 3,\n",
       " 'trodden': 3,\n",
       " 'black.': 3,\n",
       " 'Oh': 3,\n",
       " 'kept': 3,\n",
       " 'first': 3,\n",
       " 'another': 3,\n",
       " 'day!': 3,\n",
       " 'Yet': 3,\n",
       " 'knowing': 3,\n",
       " 'how': 3,\n",
       " 'way': 3,\n",
       " 'leads': 3,\n",
       " 'on': 3,\n",
       " 'to': 3,\n",
       " 'way,': 3,\n",
       " 'doubted': 3,\n",
       " 'if': 3,\n",
       " 'should': 3,\n",
       " 'ever': 3,\n",
       " 'come': 3,\n",
       " 'back.': 3,\n",
       " 'shall': 3,\n",
       " 'telling': 3,\n",
       " 'this': 3,\n",
       " 'with': 3,\n",
       " 'sigh': 3,\n",
       " 'Somewhere': 3,\n",
       " 'ages': 6,\n",
       " 'hence:': 3,\n",
       " 'wood': 3,\n",
       " 'Iâ€”': 3,\n",
       " 'less': 3,\n",
       " 'traveled': 3,\n",
       " 'by,': 3,\n",
       " 'has': 3,\n",
       " 'made': 3,\n",
       " 'all': 3,\n",
       " 'difference': 3}"
      ]
     },
     "execution_count": 55,
     "metadata": {},
     "output_type": "execute_result"
    }
   ],
   "source": [
    "word_cnt"
   ]
  },
  {
   "cell_type": "code",
   "execution_count": 56,
   "id": "e400f5f8",
   "metadata": {},
   "outputs": [],
   "source": [
    "word_counts_ = {}\n",
    "with open(\"poem.txt\",\"r\") as f:\n",
    "    for line in f:\n",
    "        tokens = line.split(' ')\n",
    "        for token in tokens:\n",
    "            token=token.replace('\\n','')\n",
    "            if token in word_counts_:\n",
    "                word_counts_[token]+=1\n",
    "            else:\n",
    "                word_counts_[token]=1"
   ]
  },
  {
   "cell_type": "code",
   "execution_count": 57,
   "id": "80099739",
   "metadata": {
    "scrolled": true
   },
   "outputs": [
    {
     "data": {
      "text/plain": [
       "{'Two': 2,\n",
       " 'roads': 2,\n",
       " 'diverged': 2,\n",
       " 'in': 3,\n",
       " 'a': 3,\n",
       " 'yellow': 1,\n",
       " 'wood,': 2,\n",
       " 'And': 6,\n",
       " 'sorry': 1,\n",
       " 'I': 8,\n",
       " 'could': 2,\n",
       " 'not': 1,\n",
       " 'travel': 1,\n",
       " 'both': 2,\n",
       " 'be': 2,\n",
       " 'one': 3,\n",
       " 'traveler,': 1,\n",
       " 'long': 1,\n",
       " 'stood': 1,\n",
       " 'looked': 1,\n",
       " 'down': 1,\n",
       " 'as': 5,\n",
       " 'far': 1,\n",
       " 'To': 1,\n",
       " 'where': 1,\n",
       " 'it': 2,\n",
       " 'bent': 1,\n",
       " 'the': 8,\n",
       " 'undergrowth;': 1,\n",
       " '': 3,\n",
       " 'Then': 1,\n",
       " 'took': 2,\n",
       " 'other,': 1,\n",
       " 'just': 1,\n",
       " 'fair,': 1,\n",
       " 'having': 1,\n",
       " 'perhaps': 1,\n",
       " 'better': 1,\n",
       " 'claim,': 1,\n",
       " 'Because': 1,\n",
       " 'was': 1,\n",
       " 'grassy': 1,\n",
       " 'and': 3,\n",
       " 'wanted': 1,\n",
       " 'wear;': 1,\n",
       " 'Though': 1,\n",
       " 'for': 2,\n",
       " 'that': 3,\n",
       " 'passing': 1,\n",
       " 'there': 1,\n",
       " 'Had': 1,\n",
       " 'worn': 1,\n",
       " 'them': 1,\n",
       " 'really': 1,\n",
       " 'about': 1,\n",
       " 'same,': 1,\n",
       " 'morning': 1,\n",
       " 'equally': 1,\n",
       " 'lay': 1,\n",
       " 'In': 1,\n",
       " 'leaves': 1,\n",
       " 'no': 1,\n",
       " 'step': 1,\n",
       " 'had': 1,\n",
       " 'trodden': 1,\n",
       " 'black.': 1,\n",
       " 'Oh,': 1,\n",
       " 'kept': 1,\n",
       " 'first': 1,\n",
       " 'another': 1,\n",
       " 'day!': 1,\n",
       " 'Yet': 1,\n",
       " 'knowing': 1,\n",
       " 'how': 1,\n",
       " 'way': 1,\n",
       " 'leads': 1,\n",
       " 'on': 1,\n",
       " 'to': 1,\n",
       " 'way,': 1,\n",
       " 'doubted': 1,\n",
       " 'if': 1,\n",
       " 'should': 1,\n",
       " 'ever': 1,\n",
       " 'come': 1,\n",
       " 'back.': 1,\n",
       " 'shall': 1,\n",
       " 'telling': 1,\n",
       " 'this': 1,\n",
       " 'with': 1,\n",
       " 'sigh': 1,\n",
       " 'Somewhere': 1,\n",
       " 'ages': 2,\n",
       " 'hence:': 1,\n",
       " 'Iâ€”': 1,\n",
       " 'less': 1,\n",
       " 'traveled': 1,\n",
       " 'by,': 1,\n",
       " 'has': 1,\n",
       " 'made': 1,\n",
       " 'all': 1,\n",
       " 'difference.': 1}"
      ]
     },
     "execution_count": 57,
     "metadata": {},
     "output_type": "execute_result"
    }
   ],
   "source": [
    "word_counts_"
   ]
  },
  {
   "cell_type": "code",
   "execution_count": 60,
   "id": "a322360f",
   "metadata": {},
   "outputs": [
    {
     "data": {
      "text/plain": [
       "1"
      ]
     },
     "execution_count": 60,
     "metadata": {},
     "output_type": "execute_result"
    }
   ],
   "source": [
    "word_counts_['undergrowth;']"
   ]
  },
  {
   "cell_type": "code",
   "execution_count": null,
   "id": "57e34b06",
   "metadata": {},
   "outputs": [],
   "source": []
  }
 ],
 "metadata": {
  "kernelspec": {
   "display_name": "Python 3",
   "language": "python",
   "name": "python3"
  },
  "language_info": {
   "codemirror_mode": {
    "name": "ipython",
    "version": 3
   },
   "file_extension": ".py",
   "mimetype": "text/x-python",
   "name": "python",
   "nbconvert_exporter": "python",
   "pygments_lexer": "ipython3",
   "version": "3.7.0"
  }
 },
 "nbformat": 4,
 "nbformat_minor": 5
}
